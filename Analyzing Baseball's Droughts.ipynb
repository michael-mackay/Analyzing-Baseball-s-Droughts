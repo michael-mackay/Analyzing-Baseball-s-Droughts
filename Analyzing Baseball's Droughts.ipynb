{
 "cells": [
  {
   "cell_type": "markdown",
   "metadata": {},
   "source": [
    "# Analyzing Baseball's Droughts\n",
    "\n",
    "There was particular attention set on the 2016 World Series as the Chicago Cubs were able to end a 108 year championship drought. The fact that the drought extended past the lifespan of almost every living Cubs fan to the early age of baseball raises thoughts about just how much of an outlier a 108 year drought is. Is it improbable? Or could it reasonably have been expected that some team would reach that point?\n",
    "\n",
    "As an Indians fan I wasn't thrilled with the 2016 result. Since the Indians now hold the longest drought at 69 years, the natural question is _Are they next?_ What are the chances that Cleveland also will wait 108 years (or more) to see a world champion baseball team?"
   ]
  },
  {
   "cell_type": "code",
   "execution_count": 75,
   "metadata": {
    "collapsed": true
   },
   "outputs": [],
   "source": [
    "import numpy as np\n",
    "import matplotlib.pyplot as plt"
   ]
  },
  {
   "cell_type": "markdown",
   "metadata": {},
   "source": [
    "Let's just assume the league structure will remain the same with the 30 teams that are already in place. We will also assume that each team has the same chance to win a championship this year. This may be a bit unfair at the moment to the Indians who have a strong team, but over enough time its a reasonable assumption as teams rise and fall. In this case, the chance that the Indians (or any given team) will win a championsip in a given year is:\n",
    "\n",
    "\\begin{equation*}\n",
    "P(C)  = \\frac{1}{30}\n",
    "\\end{equation*}\n",
    "\n",
    "And of course the chance that the same team will not win a championship in that year is:\n",
    "\n",
    "\\begin{equation*}\n",
    "P(noC)  = \\frac{29}{30}\n",
    "\\end{equation*}"
   ]
  },
  {
   "cell_type": "code",
   "execution_count": 76,
   "metadata": {},
   "outputs": [
    {
     "name": "stdout",
     "output_type": "stream",
     "text": [
      "0.03333333333333333\n",
      "0.9666666666666667\n"
     ]
    }
   ],
   "source": [
    "print(1/30)\n",
    "print(29/30)"
   ]
  },
  {
   "cell_type": "markdown",
   "metadata": {},
   "source": [
    "If we want to know whether the Indians will extend their drought 39 more years to reach 108, we can find the probability that they will fail to win each year for 39 years.\n",
    "\n",
    "\\begin{equation*}\n",
    "P(108-year-drought)  = (\\frac{29}{30})^{39}\n",
    "\\end{equation*}"
   ]
  },
  {
   "cell_type": "code",
   "execution_count": 77,
   "metadata": {},
   "outputs": [
    {
     "name": "stdout",
     "output_type": "stream",
     "text": [
      "0.2665587750668748\n",
      "0.7334412249331252\n"
     ]
    }
   ],
   "source": [
    "#108 year drought\n",
    "print((29/30)**39)\n",
    "#avoid 108 year drought\n",
    "print(1-(29/30)**39)"
   ]
  },
  {
   "cell_type": "markdown",
   "metadata": {},
   "source": [
    "So the Tribe have a 26.7% chance to reach a drought of 108 years. Not too comforting. So perhaps that length is not as much of an outlier as it feels. Even if the Indians win in that time frame, there are 29 other teams. What are the chances that at least one MLB team is in the midst of what will become a 108 year period with no championships? "
   ]
  },
  {
   "cell_type": "markdown",
   "metadata": {},
   "source": [
    "| Seasons | Team                  | Last championship won        | Last World Series appearance |\n",
    "|---------|-----------------------|------------------------------|------------------------------|\n",
    "| 69      | Cleveland Indians     | 1948                         | 2016                         |\n",
    "| 57      | Texas Rangers         | Never (franchise began 1961) | 2011                         |\n",
    "| 49      | Milwaukee Brewers     | Never (franchise began 1969) | 1982                         |\n",
    "| 49      | San Diego Padres      | Never (franchise began 1969) | 1998                         |\n",
    "| 49      | Washington Nationals  | Never (franchise began 1969) | never                        |\n",
    "| 41      | Seattle Mariners      | Never (franchise began 1977) | never                        |\n",
    "| 38      | Pittsburgh Pirates    | 1979                         | 1979                         |\n",
    "| 34      | Baltimore Orioles     | 1983                         | 1983                         |\n",
    "| 33      | Detroit Tigers        | 1984                         | 2012                         |\n",
    "| 31      | New York Mets         | 1986                         | 2015                         |\n",
    "| 29      | Los Angeles Dodgers   | 1988                         | 2017                         |\n",
    "| 28      | Oakland Athletics     | 1989                         | 1990                         |\n",
    "| 27      | Cincinnati Reds       | 1990                         | 1990                         |\n",
    "| 26      | Minnesota Twins       | 1991                         | 1991                         |\n",
    "| 25      | Colorado Rockies      | Never (franchise began 1993) | 2007                         |\n",
    "| 24      | Toronto Blue Jays     | 1993                         | 1993                         |\n",
    "| 22      | Atlanta Braves        | 1995                         | 1999                         |\n",
    "| 20      | Tampa Bay Rays        | Never (franchise began 1998) | 2008                         |\n",
    "| 16      | Arizona Diamondbacks  | 2001                         | 2001                         |\n",
    "| 15      | Los Angeles Angels    | 2002                         | 2002                         |\n",
    "| 14      | Miami Marlins         | 2003                         | 2003                         |\n",
    "| 12      | Chicago White Sox     | 2005                         | 2005                         |\n",
    "| 9       | Philadelphia Phillies | 2008                         | 2009                         |\n",
    "| 8       | New York Yankees      | 2009                         | 2009                         |\n",
    "| 6       | St. Louis Cardinals   | 2011                         | 2013                         |\n",
    "| 4       | Boston Red Sox        | 2013                         | 2013                         |\n",
    "| 3       | San Francisco Giants  | 2014                         | 2014                         |\n",
    "| 2       | Kansas City Royals    | 2015                         | 2015                         |\n",
    "| 1       | Chicago Cubs          | 2016                         | 2016                         |\n",
    "| 0       | Houston Astros        | 2017                         | 2017                         |"
   ]
  },
  {
   "cell_type": "code",
   "execution_count": 78,
   "metadata": {
    "collapsed": true
   },
   "outputs": [],
   "source": [
    "drought_years = {'CLE':69,'TEX':57,'MIL':49,'SD':49,'WAS':49,\n",
    "'SEA':41,'PIT':38,'BAL':34,'DET':33,'NYM':31,'LAD':29,\n",
    "'OAK':28,'CIN':27,'MIN':26,'COL':25,'TOR':24,'ATL':22,\n",
    "'TB':20,'ARI':16,'LAA':15,'MIA':14,'CHW':12,'PHI':9,\n",
    "'NYY':8,'STL':6,'BOS':4,'SF':3,'KC':2,'CHC':1,'HOU':0}\n",
    "years_to_go_108 = {k: 108-v for k, v in drought_years.items()}"
   ]
  },
  {
   "cell_type": "markdown",
   "metadata": {},
   "source": [
    "We can use the same methodology used with Cleveland to find the chances that any team on this list will reach a drought of Cubs proportions."
   ]
  },
  {
   "cell_type": "code",
   "execution_count": 79,
   "metadata": {},
   "outputs": [
    {
     "name": "stdout",
     "output_type": "stream",
     "text": [
      "{'CLE': 0.2665587750668748, 'TEX': 0.17746548574875046, 'MIL': 0.13530936239932007, 'SD': 0.13530936239932007, 'WAS': 0.13530936239932007, 'SEA': 0.10316723545236987, 'PIT': 0.09319058168325366, 'BAL': 0.08137275037470781, 'DET': 0.07866032536221756, 'NYM': 0.07350370403291663, 'LAD': 0.06868512787964766, 'OAK': 0.06639562361699274, 'CIN': 0.06418243616309298, 'MIN': 0.06204302162432321, 'COL': 0.05997492090351244, 'TOR': 0.05797575687339536, 'ATL': 0.05417512392280611, 'TB': 0.05062364357675549, 'ARI': 0.044203878089643454, 'LAA': 0.042730415486655335, 'MIA': 0.041306068303766826, 'CHW': 0.03859822604829767, 'PHI': 0.03486563463303451, 'NYY': 0.033703446811933366, 'STL': 0.03149399863203996, 'BOS': 0.02942939205505067, 'SF': 0.028448412319882314, 'KC': 0.027500131909219572, 'CHC': 0.02658346084557892, 'HOU': 0.025697345484059622}\n"
     ]
    }
   ],
   "source": [
    "chance_108 = {}\n",
    "for k,v in years_to_go_108.items():\n",
    "    chance_108[k] = (29/30)**v\n",
    "    \n",
    "print(chance_108)"
   ]
  },
  {
   "cell_type": "markdown",
   "metadata": {},
   "source": [
    "| Seasons | Team                  | Percent chance of 108 year drought | Percent chance of avoiding 108 year drought |\n",
    "|---------|-----------------------|------------------------------------|---------------------------------------------|\n",
    "| 69      | Cleveland Indians     | 26.7                               | 73.3                                        |\n",
    "| 57      | Texas Rangers         | 17.7                               | 82.3                                        |\n",
    "| 49      | Milwaukee Brewers     | 13.5                               | 86.5                                        |\n",
    "| 49      | San Diego Padres      | 13.5                               | 86.5                                        |\n",
    "| 49      | Washington Nationals  | 13.5                               | 86.5                                        |\n",
    "| 41      | Seattle Mariners      | 10.3                               | 89.7                                        |\n",
    "| 38      | Pittsburgh Pirates    | 9.3                                | 90.7                                        |\n",
    "| 34      | Baltimore Orioles     | 8.1                                | 91.9                                        |\n",
    "| 33      | Detroit Tigers        | 7.9                                | 92.1                                        |\n",
    "| 31      | New York Mets         | 7.4                                | 92.6                                        |\n",
    "| 29      | Los Angeles Dodgers   | 6.9                                | 93.1                                        |\n",
    "| 28      | Oakland Athletics     | 6.6                                | 93.4                                        |\n",
    "| 27      | Cincinnati Reds       | 6.4                                | 93.6                                        |\n",
    "| 26      | Minnesota Twins       | 6.2                                | 93.8                                        |\n",
    "| 25      | Colorado Rockies      | 6                                  | 94                                          |\n",
    "| 24      | Toronto Blue Jays     | 5.8                                | 94.2                                        |\n",
    "| 22      | Atlanta Braves        | 5.4                                | 94.6                                        |\n",
    "| 20      | Tampa Bay Rays        | 5.1                                | 94.9                                        |\n",
    "| 16      | Arizona Diamondbacks  | 4.4                                | 95.6                                        |\n",
    "| 15      | Los Angeles Angels    | 4.3                                | 95.7                                        |\n",
    "| 14      | Miami Marlins         | 4.1                                | 95.9                                        |\n",
    "| 12      | Chicago White Sox     | 3.9                                | 96.1                                        |\n",
    "| 9       | Philadelphia Phillies | 3.5                                | 96.5                                        |\n",
    "| 8       | New York Yankees      | 3.4                                | 96.6                                        |\n",
    "| 6       | St. Louis Cardinals   | 3.1                                | 96.9                                        |\n",
    "| 4       | Boston Red Sox        | 2.9                                | 97.1                                        |\n",
    "| 3       | San Francisco Giants  | 2.8                                | 97.2                                        |\n",
    "| 2       | Kansas City Royals    | 2.8                                | 97.2                                        |\n",
    "| 1       | Chicago Cubs          | 2.7                                | 97.3                                        |\n",
    "| 0       | Houston Astros        | 2.6                                | 97.4                                        |"
   ]
  },
  {
   "cell_type": "markdown",
   "metadata": {},
   "source": [
    "24 teams have less than a 10% chance to match the record, but each team is probably not as safe from it as they would think or hope. Even recent champs in the Astros and the Cubs themselves have near a 1 in 40 chance of reaching the 108 mark. This is surprising given that each team has a nominal 1 in 30 (3.33%) chance of winning a championship in a given year. So the table shows that a given team, if each are given even odds, is actually more likely to go 100 consecutive years without a championship than to win one in any given year."
   ]
  },
  {
   "cell_type": "code",
   "execution_count": 80,
   "metadata": {},
   "outputs": [
    {
     "data": {
      "image/png": "[encoded data removed]",
      "text/plain": [
       "<matplotlib.figure.Figure at 0x1adf95c3438>"
      ]
     },
     "metadata": {},
     "output_type": "display_data"
    }
   ],
   "source": [
    "plt.bar(range(len(chance_108)), list(chance_108.values()), align='center')\n",
    "plt.xticks(range(len(chance_108)), list(chance_108.keys()),rotation=90)\n",
    "plt.title('Individual Team Probabilities of Continuing Current Drought to 108')\n",
    "plt.ylabel('Probability')\n",
    "plt.xlabel('Team')\n",
    "plt.show()"
   ]
  },
  {
   "cell_type": "markdown",
   "metadata": {},
   "source": [
    "So how do we determine the chance that at least one team is on their way to a 108 year drought? We can take the complement and find the chance that all teams avoid the drought. We already have the probability that each team avoids it, so it appears that we would just have to multiply them together."
   ]
  },
  {
   "cell_type": "code",
   "execution_count": 81,
   "metadata": {},
   "outputs": [
    {
     "name": "stdout",
     "output_type": "stream",
     "text": [
      "0.0999945405252\n",
      "0.900005459475\n"
     ]
    }
   ],
   "source": [
    "chance_no_108 = {}\n",
    "for k,v in chance_108.items():\n",
    "    chance_no_108[k] = 1-v\n",
    "print(np.prod(list(chance_no_108.values())))\n",
    "print(1-np.prod(list(chance_no_108.values())))"
   ]
  },
  {
   "cell_type": "markdown",
   "metadata": {},
   "source": [
    "If the individual probabilities that each team avoids the drought are multiplied together, this gives 10%, or the chance that they all happen together. In other words, the chance that no team is en route to a 108 year drought. The complement is that there is a 90% chance that some team will continue their current drought until at least 108. This is surprising, given the perception that that is an abnormally long time for such a streak. It is also actually incorrect and is in fact _lower_ than the true figure.\n",
    "\n",
    "The individual team probabilities, while they are each correct in showing the chances for each individual team, cannot simply be multiplied together to find the composite probability. This is becuase the individual team events are not independent. This means that the result of one affects the chances of the other. \n",
    "\n",
    "To demonstrate this, consider the Indians and the Rangers, the two teams with the longest current ongoing droughts. We have already shown that the Indians have a 73% chance of avoiding extending their current streak by 39 years to a total of 108. In other words, they have a 73% chance to win a title in the next 39 years. Similarly, the Rangers have 51 years to go before 108 and have an 82% chance to win during that period. If we multiply their probabilities together to attempt to find the chance that each team avoids 108, we get a 60.3% chance that both teams avoid 108. But as explained, that's not quite right. \n",
    "\n",
    "Whether or not the Indians avoid the drought affects the chances of the Rangers because only one team can win every year. To compute the Rangers chances, we give them 51 years to win, with a 1/30 chance to win every year. But if we want to find the chance that both teams avoid the drought, we need to know the chance that the Rangers avoid it _given_ that the Indians have avoided it. This notation is shown below. \n",
    "\n",
    "$$\n",
    "\\begin{array}{c}\n",
    "P(CLE and TEX) != P(CLE)P(TEX) \\\\\\\n",
    "P(CLE and TEX) = P(CLE)P(TEX|CLE)\n",
    "\\end{array}\n",
    "$$\n",
    "\n",
    "If we know the Indians avoided the drought, that means they won at least one championship during the 39 year period. Since only one team can avoid it each year, while normally the Rangers would have a 29/30 chance to continue their drought, if we know the Indians won in a certain year, the Rangers then have a 100% chance to continue their drought that year. So if we want to find the chance that the Rangers avoid 108, given that we know that the Indians did, we can only give the Rangers 50 years to do so instead of 51. So this actually makes it harder for the Rangers. We only have to take into account the Indians winning one of those years, because that's all that needs to be true to satisfy the conditions. It is possible that they could win multiple years, but that is already taken into account in the 29/30 chance each year for the Rangers."
   ]
  },
  {
   "cell_type": "code",
   "execution_count": 82,
   "metadata": {},
   "outputs": [
    {
     "name": "stdout",
     "output_type": "stream",
     "text": [
      "0.6032807216822097\n",
      "0.3967192783177903\n"
     ]
    }
   ],
   "source": [
    "print(chance_no_108['CLE']*chance_no_108['TEX'])\n",
    "print(1-chance_no_108['CLE']*chance_no_108['TEX'])"
   ]
  },
  {
   "cell_type": "code",
   "execution_count": 83,
   "metadata": {},
   "outputs": [
    {
     "name": "stdout",
     "output_type": "stream",
     "text": [
      "0.5987924284666608\n",
      "0.4012075715333392\n"
     ]
    }
   ],
   "source": [
    "CLEandTEX = (1-(29/30)**39)*(1-(29/30)**50)\n",
    "print(CLEandTEX)\n",
    "print(1-CLEandTEX)"
   ]
  },
  {
   "cell_type": "markdown",
   "metadata": {},
   "source": [
    "So our first calculation showed that there is a 39.7% chance that either the Indians or Rangers reach a 108 year drought. However when we take into account that the events are not independent, we show that the chance is actually 40.1%. This is a small difference, but it becomes more important as more teams are taken into account."
   ]
  },
  {
   "cell_type": "markdown",
   "metadata": {},
   "source": [
    "So then let's return to our original question. What are the chances that some team in baseball will continue their current championship drought all the way to a Cubs-matching 108 years? We can extend our methodology from the Indians and Rangers to include all teams. \n",
    "\n",
    "\\begin{equation*}\n",
    "P(108)  =  1-P(CLE)P(TEX|CLE)P(MIL|TEXandCLE)P(SD|TEXandCLEandMIL)...P(HOU|all)\n",
    "\\end{equation*}\n",
    "\n",
    "So the probability that some team reaches 108 is the complement of the probability that all teams avoid it, accounting for the fact that the probabilities that each team avoid it are dependent."
   ]
  },
  {
   "cell_type": "code",
   "execution_count": 84,
   "metadata": {},
   "outputs": [
    {
     "data": {
      "text/plain": [
       "[('CLE', 39),\n",
       " ('TEX', 51),\n",
       " ('MIL', 59),\n",
       " ('SD', 59),\n",
       " ('WAS', 59),\n",
       " ('SEA', 67),\n",
       " ('PIT', 70),\n",
       " ('BAL', 74),\n",
       " ('DET', 75),\n",
       " ('NYM', 77),\n",
       " ('LAD', 79),\n",
       " ('OAK', 80),\n",
       " ('CIN', 81),\n",
       " ('MIN', 82),\n",
       " ('COL', 83),\n",
       " ('TOR', 84),\n",
       " ('ATL', 86),\n",
       " ('TB', 88),\n",
       " ('ARI', 92),\n",
       " ('LAA', 93),\n",
       " ('MIA', 94),\n",
       " ('CHW', 96),\n",
       " ('PHI', 99),\n",
       " ('NYY', 100),\n",
       " ('STL', 102),\n",
       " ('BOS', 104),\n",
       " ('SF', 105),\n",
       " ('KC', 106),\n",
       " ('CHC', 107),\n",
       " ('HOU', 108)]"
      ]
     },
     "execution_count": 84,
     "metadata": {},
     "output_type": "execute_result"
    }
   ],
   "source": [
    "#years_to_go = [39,51,59,59,59,67,70,74,75,77,79,80,81,82,83,84,86,88,92,93,94,96,99,100,102,104,105,106,107,108]\n",
    "\n",
    "import operator\n",
    "years_to_go_108 = {k: 108-v for k, v in drought_years.items()}\n",
    "years_to_go_108_sort = sorted(years_to_go_108.items(), key=operator.itemgetter(1))\n",
    "years_to_go_108_sort"
   ]
  },
  {
   "cell_type": "code",
   "execution_count": 85,
   "metadata": {},
   "outputs": [
    {
     "name": "stdout",
     "output_type": "stream",
     "text": [
      "0.962879415558\n"
     ]
    }
   ],
   "source": [
    "chances = []\n",
    "i=0\n",
    "for n in years_to_go_108_sort:\n",
    "    chance_n = 1-(((29)/(30))**(n[1]-i))\n",
    "    chances.append(chance_n)\n",
    "    i = i+1\n",
    "    \n",
    "print(1-np.prod(chances))"
   ]
  },
  {
   "cell_type": "markdown",
   "metadata": {},
   "source": [
    "While we originally computed a 90% chance, it turns out with dependence the real figure is 96.3%. As much as an outlier as the Cubs' long wait may seem, there is actually a 96.3% chance that some team is on their way to match them. Here's hoping it's not the Indians..."
   ]
  },
  {
   "cell_type": "code",
   "execution_count": 86,
   "metadata": {},
   "outputs": [
    {
     "data": {
      "text/plain": [
       "{70: 0.99999993047251634,\n",
       " 71: 0.99999975731142143,\n",
       " 72: 0.99999938531967769,\n",
       " 73: 0.99999865726422144,\n",
       " 74: 0.99999732527497232,\n",
       " 75: 0.99999501388130108,\n",
       " 76: 0.99999117383992975,\n",
       " 77: 0.99998502627060804,\n",
       " 78: 0.99997549708395006,\n",
       " 79: 0.9999611422360658,\n",
       " 80: 0.99994006494442222,\n",
       " 81: 0.99990982660975691,\n",
       " 82: 0.99986735376800584,\n",
       " 83: 0.99980884390313229,\n",
       " 84: 0.99972967334977336,\n",
       " 85: 0.99962431077434688,\n",
       " 86: 0.99948623982462581,\n",
       " 87: 0.9993078944713385,\n",
       " 88: 0.99908061033244056,\n",
       " 89: 0.99879459488291211,\n",
       " 90: 0.99843891893064607,\n",
       " 91: 0.99800153110956957,\n",
       " 92: 0.99746929643662929,\n",
       " 93: 0.99682805923414053,\n",
       " 94: 0.99606272996784384,\n",
       " 95: 0.99515739482657517,\n",
       " 96: 0.99409544620094825,\n",
       " 97: 0.99285973163030228,\n",
       " 98: 0.99143271829822788,\n",
       " 99: 0.9897966697801196,\n",
       " 100: 0.98793383148829306,\n",
       " 101: 0.98582662112250985,\n",
       " 102: 0.98345782041245644,\n",
       " 103: 0.98081076452571969,\n",
       " 104: 0.97786952569861496,\n",
       " 105: 0.97461908791383312,\n",
       " 106: 0.9710455097827535,\n",
       " 107: 0.96713607317510653,\n",
       " 108: 0.96287941555821677,\n",
       " 109: 0.95826564444671103,\n",
       " 110: 0.95328643280691627,\n",
       " 111: 0.94793509469533732,\n",
       " 112: 0.94220664082653605,\n",
       " 113: 0.93609781415334714,\n",
       " 114: 0.92960710589454343,\n",
       " 115: 0.92273475275666605,\n",
       " 116: 0.915482716364447,\n",
       " 117: 0.90785464613643885,\n",
       " 118: 0.89985582701897682,\n",
       " 119: 0.89149311362355999,\n",
       " 120: 0.88277485240227382,\n",
       " 121: 0.87371079354600667,\n",
       " 122: 0.86431199430446071,\n",
       " 123: 0.85459071540936138,\n",
       " 124: 0.844560312237011,\n",
       " 125: 0.83423512227772767,\n",
       " 126: 0.8236303503920126,\n",
       " 127: 0.81276195323057931,\n",
       " 128: 0.80164652408151693,\n",
       " 129: 0.79030117928641697,\n",
       " 130: 0.77874344724145228,\n",
       " 131: 0.76699116087204411,\n",
       " 132: 0.75506235434332636,\n",
       " 133: 0.7429751646452275,\n",
       " 134: 0.73074773857237107,\n",
       " 135: 0.71839814550651249,\n",
       " 136: 0.70594429630397149,\n",
       " 137: 0.69340386849324076,\n",
       " 138: 0.68079423789914162,\n",
       " 139: 0.66813241672989376,\n",
       " 140: 0.65543499809225758,\n",
       " 141: 0.64271810683749342,\n",
       " 142: 0.62999735658695522,\n",
       " 143: 0.617287812740408,\n",
       " 144: 0.60460396123216298,\n",
       " 145: 0.59195968276938582,\n",
       " 146: 0.5793682322629039,\n",
       " 147: 0.56684222314294619,\n",
       " 148: 0.55439361623992189,\n",
       " 149: 0.54203371290298719,\n",
       " 150: 0.52977315202621278,\n",
       " 151: 0.51762191065307039,\n",
       " 152: 0.50558930783419087,\n",
       " 153: 0.49368401142041252,\n",
       " 154: 0.48191404748256572,\n",
       " 155: 0.4702868120608038,\n",
       " 156: 0.45880908495918393,\n",
       " 157: 0.44748704531529415,\n",
       " 158: 0.43632628868968015,\n",
       " 159: 0.42533184543535041,\n",
       " 160: 0.41450820012351508,\n",
       " 161: 0.40385931181770196,\n",
       " 162: 0.39338863500428844,\n",
       " 163: 0.38309914100320208,\n",
       " 164: 0.37299333969783943,\n",
       " 165: 0.36307330143814009,\n",
       " 166: 0.35334067898500376,\n",
       " 167: 0.34379672937797146,\n",
       " 168: 0.33444233562103509,\n",
       " 169: 0.32527802809377371,\n",
       " 170: 0.31630400560653216,\n",
       " 171: 0.30752015602918836,\n",
       " 172: 0.29892607643311819,\n",
       " 173: 0.29052109269528137,\n",
       " 174: 0.28230427852195539,\n",
       " 175: 0.27427447385754355,\n",
       " 176: 0.26643030265107426,\n",
       " 177: 0.25877018995958767,\n",
       " 178: 0.25129237837350693,\n",
       " 179: 0.24399494375445296,\n",
       " 180: 0.23687581028071369,\n",
       " 181: 0.2299327647998477,\n",
       " 182: 0.22316347049163954,\n",
       " 183: 0.2165654798479294,\n",
       " 184: 0.21013624697872102,\n",
       " 185: 0.20387313925642758,\n",
       " 186: 0.1977734483122604,\n",
       " 187: 0.19183440040052879,\n",
       " 188: 0.18605316614811884,\n",
       " 189: 0.18042686970762212,\n",
       " 190: 0.1749525973335454,\n",
       " 191: 0.169627405401785,\n",
       " 192: 0.16444832789305885,\n",
       " 193: 0.15941238336137664,\n",
       " 194: 0.15451658140880886,\n",
       " 195: 0.14975792868787485,\n",
       " 196: 0.14513343445281546,\n",
       " 197: 0.14064011568082446,\n",
       " 198: 0.1362750017840707,\n",
       " 199: 0.13203513893296481,\n",
       " 200: 0.12791759401073965,\n",
       " 201: 0.12391945821892714,\n",
       " 202: 0.1200378503527878,\n",
       " 203: 0.11626991976521739,\n",
       " 204: 0.11261284903703717,\n",
       " 205: 0.1090638563709867,\n",
       " 206: 0.10562019772610243,\n",
       " 207: 0.10227916870852249,\n",
       " 208: 0.099038106234128787,\n",
       " 209: 0.095894389977771777,\n",
       " 210: 0.09284544362319469,\n",
       " 211: 0.089888735927130203,\n",
       " 212: 0.087021781610417515,\n",
       " 213: 0.084242142088349126,\n",
       " 214: 0.081547426051883698,\n",
       " 215: 0.078935289910734729,\n",
       " 216: 0.076403438108790467,\n",
       " 217: 0.073949623321756586,\n",
       " 218: 0.071571646546355616,\n",
       " 219: 0.069267357089923931,\n",
       " 220: 0.067034652468714206,\n",
       " 221: 0.064871478222740087,\n",
       " 222: 0.062775827654532934,\n",
       " 223: 0.060745741498732908,\n",
       " 224: 0.058779307529002067,\n",
       " 225: 0.056874660108360509,\n",
       " 226: 0.055029979688621555,\n",
       " 227: 0.053243492264281045,\n",
       " 228: 0.051513468785801542,\n",
       " 229: 0.049838224536958853,\n",
       " 230: 0.048216118480552184,\n",
       " 231: 0.04664555257651104,\n",
       " 232: 0.045124971076121234,\n",
       " 233: 0.043652859795844545,\n",
       " 234: 0.042227745373933034,\n",
       " 235: 0.040848194512817626,\n",
       " 236: 0.03951281320999922,\n",
       " 237: 0.038220245979990519,\n",
       " 238: 0.036969175069616833,\n",
       " 239: 0.035758319668836691,\n",
       " 240: 0.034586435119026371,\n",
       " 241: 0.033452312120538452,\n",
       " 242: 0.032354775941173086,\n",
       " 243: 0.031292685627051009,\n",
       " 244: 0.030264933217259204,\n",
       " 245: 0.029270442963490573,\n",
       " 246: 0.028308170555794154,\n",
       " 247: 0.027377102355448879,\n",
       " 248: 0.026476254635836582,\n",
       " 249: 0.025604672832146957,\n",
       " 250: 0.024761430800601336,\n",
       " 251: 0.023945630087844338,\n",
       " 252: 0.023156399211050394,\n",
       " 253: 0.022392892949221643,\n",
       " 254: 0.021654291646113877,\n",
       " 255: 0.020939800525116015,\n",
       " 256: 0.020248649016415432,\n",
       " 257: 0.01958009009666406,\n",
       " 258: 0.018933399641373749,\n",
       " 259: 0.018307875790176786,\n",
       " 260: 0.017702838325072245,\n",
       " 261: 0.017117628061742662,\n",
       " 262: 0.016551606253975892,\n",
       " 263: 0.016004154011212024,\n",
       " 264: 0.015474671729201472,\n",
       " 265: 0.01496257853372196,\n",
       " 266: 0.014467311737320188,\n",
       " 267: 0.013988326308953747,\n",
       " 268: 0.013525094356467982,\n",
       " 269: 0.013077104621763147,\n",
       " 270: 0.012643861988530736,\n",
       " 271: 0.01222488700240365,\n",
       " 272: 0.011819715403362019,\n",
       " 273: 0.011427897670224785,\n",
       " 274: 0.011048998577044888,\n",
       " 275: 0.010682596761228846,\n",
       " 276: 0.010328284303159796,\n",
       " 277: 0.0099856663171705717,\n",
       " 278: 0.0096543605536062449,\n",
       " 279: 0.0093339970118082594,\n",
       " 280: 0.0090242175637925692,\n",
       " 281: 0.0087246755883957361,\n",
       " 282: 0.0084350356157002482,\n",
       " 283: 0.008154972981487818,\n",
       " 284: 0.0078841734915252593,\n",
       " 285: 0.0076223330954616753,\n",
       " 286: 0.007369157570100926,\n",
       " 287: 0.0071243622118619676,\n",
       " 288: 0.0068876715381753773,\n",
       " 289: 0.0066588189976340972,\n",
       " 290: 0.0064375466886604782,\n",
       " 291: 0.0062236050864952208,\n",
       " 292: 0.0060167527782922781,\n",
       " 293: 0.0058167562061043343,\n",
       " 294: 0.0056233894175842236,\n",
       " 295: 0.0054364338241660315,\n",
       " 296: 0.005255677966555683,\n",
       " 297: 0.0050809172873238495,\n",
       " 298: 0.0049119539104125476,\n",
       " 299: 0.0047485964273726866,\n",
       " 300: 0.0045906596901422736,\n",
       " 301: 0.004437964610186973,\n",
       " 302: 0.0042903379638309369,\n",
       " 303: 0.0041476122035920548,\n",
       " 304: 0.0040096252753759609,\n",
       " 305: 0.0038762204413307355,\n",
       " 306: 0.0037472461082267428,\n",
       " 307: 0.0036225556611919618,\n",
       " 308: 0.0035020073026453824,\n",
       " 309: 0.0033854638962880212,\n",
       " 310: 0.0032727928159910213,\n",
       " 311: 0.0031638657994409458,\n",
       " 312: 0.0030585588064141467,\n",
       " 313: 0.0029567518815163396,\n",
       " 314: 0.0028583290212832457,\n",
       " 315: 0.0027631780454973054,\n",
       " 316: 0.0026711904725846836,\n",
       " 317: 0.002582261398993313,\n",
       " 318: 0.0024962893824074239,\n",
       " 319: 0.0024131763287016383,\n",
       " 320: 0.0023328273825028445,\n",
       " 321: 0.0022551508212649285,\n",
       " 322: 0.0021800579527376795,\n",
       " 323: 0.0021074630157322805,\n",
       " 324: 0.0020372830840752476,\n",
       " 325: 0.0019694379736590051,\n",
       " 326: 0.0019038501524870632,\n",
       " 327: 0.0018404446536256502,\n",
       " 328: 0.0017791489909662062,\n",
       " 329: 0.0017198930777124755,\n",
       " 330: 0.0016626091475093752,\n",
       " 331: 0.0016072316781294838,\n",
       " 332: 0.0015536973176317748,\n",
       " 333: 0.0015019448129214297,\n",
       " 334: 0.0014519149406357901,\n",
       " 335: 0.0014035504402670762,\n",
       " 336: 0.00135679594947824,\n",
       " 337: 0.001311597941513476,\n",
       " 338: 0.0012679046646578707,\n",
       " 339: 0.0012256660836718059,\n",
       " 340: 0.0011848338231329469,\n",
       " 341: 0.0011453611126400753,\n",
       " 342: 0.0011072027337980517,\n",
       " 343: 0.001070314968945385,\n",
       " 344: 0.0010346555515586831,\n",
       " 345: 0.0010001836182805812,\n",
       " 346: 0.00096685966252252342,\n",
       " 347: 0.00093464548958988036,\n",
       " 348: 0.00090350417327789145,\n",
       " 349: 0.00087340001389701882,\n",
       " 350: 0.00084429849766898268,\n",
       " 351: 0.00081616625746883109,\n",
       " 352: 0.00078897103485064957,\n",
       " 353: 0.00076268164332493615,\n",
       " 354: 0.00073726793284434322,\n",
       " 355: 0.0007127007554564857,\n",
       " 356: 0.00068895193209639327,\n",
       " 357: 0.00066599422046409451,\n",
       " 358: 0.00064380128396690495,\n",
       " 359: 0.0006223476616832313,\n",
       " 360: 0.00060160873932024739,\n",
       " 361: 0.00058156072112613977,\n",
       " 362: 0.00056218060273494075,\n",
       " 363: 0.00054344614490331455,\n",
       " 364: 0.00052533584811820244,\n",
       " 365: 0.00050782892804135393,\n",
       " 366: 0.00049090529176931685,\n",
       " 367: 0.00047454551487180474,\n",
       " 368: 0.00045873081919711733,\n",
       " 369: 0.00044344305140886497,\n",
       " 370: 0.00042866466222912791,\n",
       " 371: 0.00041437868637372866,\n",
       " 372: 0.0004005687231510846,\n",
       " 373: 0.00038721891770132633,\n",
       " 374: 0.0003743139428581399,\n",
       " 375: 0.00036183898161412653,\n",
       " 376: 0.00034977971015848208,\n",
       " 377: 0.00033812228149010526,\n",
       " 378: 0.00032685330956094827,\n",
       " 379: 0.00031595985395682646,\n",
       " 380: 0.00030542940507305438,\n",
       " 381: 0.00029524986979656553,\n",
       " 382: 0.000285409557650107,\n",
       " 383: 0.00027589716740439307,\n",
       " 384: 0.00026670177413046225,\n",
       " 385: 0.00025781281668357803,\n",
       " 386: 0.00024922008560168685,\n",
       " 387: 0.00024091371140655404,\n",
       " 388: 0.00023288415329192347,\n",
       " 389: 0.00022512218818870888,\n",
       " 390: 0.00021761890019178498,\n",
       " 391: 0.00021036567034093956,\n",
       " 392: 0.000203354166736891,\n",
       " 393: 0.00019657633499037264,\n",
       " 394: 0.00019002438898363394,\n",
       " 395: 0.00018369080194557963,\n",
       " 396: 0.00017756829781490069,\n",
       " 397: 0.00017164984289719243,\n",
       " 398: 0.00016592863779885114,\n",
       " 399: 0.00016039810962276135,\n",
       " 400: 0.00015505190443365624}"
      ]
     },
     "execution_count": 86,
     "metadata": {},
     "output_type": "execute_result"
    }
   ],
   "source": [
    "drought_chances = {}\n",
    "years_to_go_y = {}\n",
    "years_to_go_y_sort = {}\n",
    "for y in range(70,401):\n",
    "    years_to_go_y = {k: y-v for k, v in drought_years.items()}\n",
    "    years_to_go_y_sort = sorted(years_to_go_y.items(), key=operator.itemgetter(1))\n",
    "    chances = []\n",
    "    i=0\n",
    "    for n in years_to_go_y_sort:\n",
    "        chance_n = 1-(((29)/(30))**(n[1]-i))\n",
    "        chances.append(chance_n)\n",
    "        i = i+1\n",
    "        drought_chances[y] = 1-np.prod(chances)\n",
    "    \n",
    "drought_chances"
   ]
  },
  {
   "cell_type": "code",
   "execution_count": 87,
   "metadata": {},
   "outputs": [
    {
     "data": {
      "image/png": "[encoded data removed]",
      "text/plain": [
       "<matplotlib.figure.Figure at 0x1adf9e60dd8>"
      ]
     },
     "metadata": {},
     "output_type": "display_data"
    }
   ],
   "source": [
    "plt.bar(range(70,401), list(drought_chances.values()), align='center')\n",
    "plt.xticks(list(range(70,400,50)), list(range(70,400,50)))\n",
    "plt.title('Probability of Extension of At Least one Drought')\n",
    "plt.ylabel('Probability')\n",
    "plt.xlabel('Total Drought (Years)')\n",
    "plt.show()"
   ]
  },
  {
   "cell_type": "markdown",
   "metadata": {},
   "source": [
    "Why stop at 108? We can use our methodology to find the chance that some teams streak will continue to any given length. While the Indians have a chance to win in 2018 and stop their streak from reaching 70, someone else still could. There is ovarall a 99.999993% that someone will reach it. Meanwhile, there is about a 50% chance that someone will reach 152 years, and a 10% chance that some unlucky team will extend their current streak not just to 108, but 208!"
   ]
  },
  {
   "cell_type": "markdown",
   "metadata": {},
   "source": [
    "So these extended championship droughts may not be as avoidable as we think. Cubs fans, count your blessings."
   ]
  },
  {
   "cell_type": "code",
   "execution_count": null,
   "metadata": {
    "collapsed": true
   },
   "outputs": [],
   "source": []
  }
 ],
 "metadata": {
  "kernelspec": {
   "display_name": "Python 3",
   "language": "python",
   "name": "python3"
  },
  "language_info": {
   "codemirror_mode": {
    "name": "ipython",
    "version": 3
   },
   "file_extension": ".py",
   "mimetype": "text/x-python",
   "name": "python",
   "nbconvert_exporter": "python",
   "pygments_lexer": "ipython3",
   "version": "3.6.1"
  }
 },
 "nbformat": 4,
 "nbformat_minor": 2
}
