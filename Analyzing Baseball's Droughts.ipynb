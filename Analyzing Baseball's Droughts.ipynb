{
 "cells": [
  {
   "cell_type": "markdown",
   "metadata": {},
   "source": [
    "# Analyzing Baseball's Droughts\n",
    "\n",
    "There was particular attention set on the 2016 World Series as the Chicago Cubs were able to end a 108 year championship drought. The fact that the drought extended past the lifespan of almost every living Cubs fan to the early age of baseball raises thoughts about just how much of an outlier a 108 year drought is. Is it improbable? Or could it reasonably have been expected that some team would reach that point?\n",
    "\n",
    "As an Indians fan I wasn't thrilled with the 2016 result. Since the Indians now hold the longest drought at 69 years, the natural question is _Are they next?_ What are the chances that Cleveland also will wait 108 years (or more) to see a world champion baseball team?"
   ]
  },
  {
   "cell_type": "code",
   "execution_count": 75,
   "metadata": {
    "collapsed": true
   },
   "outputs": [],
   "source": [
    "import numpy as np\n",
    "import matplotlib.pyplot as plt"
   ]
  },
  {
   "cell_type": "markdown",
   "metadata": {},
   "source": [
    "Let's just assume the league structure will remain the same with the 30 teams that are already in place. We will also assume that each team has the same chance to win a championship this year. This may be a bit unfair at the moment to the Indians who have a strong team, but over enough time its a reasonable assumption as teams rise and fall. In this case, the chance that the Indians (or any given team) will win a championsip in a given year is:\n",
    "\n",
    "\\begin{equation*}\n",
    "P(C)  = \\frac{1}{30}\n",
    "\\end{equation*}\n",
    "\n",
    "And of course the chance that the same team will not win a championship in that year is:\n",
    "\n",
    "\\begin{equation*}\n",
    "P(noC)  = \\frac{29}{30}\n",
    "\\end{equation*}"
   ]
  },
  {
   "cell_type": "code",
   "execution_count": 76,
   "metadata": {},
   "outputs": [
    {
     "name": "stdout",
     "output_type": "stream",
     "text": [
      "0.03333333333333333\n",
      "0.9666666666666667\n"
     ]
    }
   ],
   "source": [
    "print(1/30)\n",
    "print(29/30)"
   ]
  },
  {
   "cell_type": "markdown",
   "metadata": {},
   "source": [
    "If we want to know whether the Indians will extend their drought 39 more years to reach 108, we can find the probability that they will fail to win each year for 39 years.\n",
    "\n",
    "\\begin{equation*}\n",
    "P(108-year-drought)  = (\\frac{29}{30})^{39}\n",
    "\\end{equation*}"
   ]
  },
  {
   "cell_type": "code",
   "execution_count": 77,
   "metadata": {},
   "outputs": [
    {
     "name": "stdout",
     "output_type": "stream",
     "text": [
      "0.2665587750668748\n",
      "0.7334412249331252\n"
     ]
    }
   ],
   "source": [
    "#108 year drought\n",
    "print((29/30)**39)\n",
    "#avoid 108 year drought\n",
    "print(1-(29/30)**39)"
   ]
  },
  {
   "cell_type": "markdown",
   "metadata": {},
   "source": [
    "So the Tribe have a 26.7% chance to reach a drought of 108 years. Not too comforting. So perhaps that length is not as much of an outlier as it feels. Even if the Indians win in that time frame, there are 29 other teams. What are the chances that at least one MLB team is in the midst of what will become a 108 year period with no championships? "
   ]
  },
  {
   "cell_type": "markdown",
   "metadata": {},
   "source": [
    "| Seasons | Team                  | Last championship won        | Last World Series appearance |\n",
    "|---------|-----------------------|------------------------------|------------------------------|\n",
    "| 69      | Cleveland Indians     | 1948                         | 2016                         |\n",
    "| 57      | Texas Rangers         | Never (franchise began 1961) | 2011                         |\n",
    "| 49      | Milwaukee Brewers     | Never (franchise began 1969) | 1982                         |\n",
    "| 49      | San Diego Padres      | Never (franchise began 1969) | 1998                         |\n",
    "| 49      | Washington Nationals  | Never (franchise began 1969) | never                        |\n",
    "| 41      | Seattle Mariners      | Never (franchise began 1977) | never                        |\n",
    "| 38      | Pittsburgh Pirates    | 1979                         | 1979                         |\n",
    "| 34      | Baltimore Orioles     | 1983                         | 1983                         |\n",
    "| 33      | Detroit Tigers        | 1984                         | 2012                         |\n",
    "| 31      | New York Mets         | 1986                         | 2015                         |\n",
    "| 29      | Los Angeles Dodgers   | 1988                         | 2017                         |\n",
    "| 28      | Oakland Athletics     | 1989                         | 1990                         |\n",
    "| 27      | Cincinnati Reds       | 1990                         | 1990                         |\n",
    "| 26      | Minnesota Twins       | 1991                         | 1991                         |\n",
    "| 25      | Colorado Rockies      | Never (franchise began 1993) | 2007                         |\n",
    "| 24      | Toronto Blue Jays     | 1993                         | 1993                         |\n",
    "| 22      | Atlanta Braves        | 1995                         | 1999                         |\n",
    "| 20      | Tampa Bay Rays        | Never (franchise began 1998) | 2008                         |\n",
    "| 16      | Arizona Diamondbacks  | 2001                         | 2001                         |\n",
    "| 15      | Los Angeles Angels    | 2002                         | 2002                         |\n",
    "| 14      | Miami Marlins         | 2003                         | 2003                         |\n",
    "| 12      | Chicago White Sox     | 2005                         | 2005                         |\n",
    "| 9       | Philadelphia Phillies | 2008                         | 2009                         |\n",
    "| 8       | New York Yankees      | 2009                         | 2009                         |\n",
    "| 6       | St. Louis Cardinals   | 2011                         | 2013                         |\n",
    "| 4       | Boston Red Sox        | 2013                         | 2013                         |\n",
    "| 3       | San Francisco Giants  | 2014                         | 2014                         |\n",
    "| 2       | Kansas City Royals    | 2015                         | 2015                         |\n",
    "| 1       | Chicago Cubs          | 2016                         | 2016                         |\n",
    "| 0       | Houston Astros        | 2017                         | 2017                         |"
   ]
  },
  {
   "cell_type": "code",
   "execution_count": 78,
   "metadata": {
    "collapsed": true
   },
   "outputs": [],
   "source": [
    "drought_years = {'CLE':69,'TEX':57,'MIL':49,'SD':49,'WAS':49,\n",
    "'SEA':41,'PIT':38,'BAL':34,'DET':33,'NYM':31,'LAD':29,\n",
    "'OAK':28,'CIN':27,'MIN':26,'COL':25,'TOR':24,'ATL':22,\n",
    "'TB':20,'ARI':16,'LAA':15,'MIA':14,'CHW':12,'PHI':9,\n",
    "'NYY':8,'STL':6,'BOS':4,'SF':3,'KC':2,'CHC':1,'HOU':0}\n",
    "years_to_go_108 = {k: 108-v for k, v in drought_years.items()}"
   ]
  },
  {
   "cell_type": "markdown",
   "metadata": {},
   "source": [
    "We can use the same methodology used with Cleveland to find the chances that any team on this list will reach a drought of Cubs proportions."
   ]
  },
  {
   "cell_type": "code",
   "execution_count": 79,
   "metadata": {},
   "outputs": [
    {
     "name": "stdout",
     "output_type": "stream",
     "text": [
      "{'CLE': 0.2665587750668748, 'TEX': 0.17746548574875046, 'MIL': 0.13530936239932007, 'SD': 0.13530936239932007, 'WAS': 0.13530936239932007, 'SEA': 0.10316723545236987, 'PIT': 0.09319058168325366, 'BAL': 0.08137275037470781, 'DET': 0.07866032536221756, 'NYM': 0.07350370403291663, 'LAD': 0.06868512787964766, 'OAK': 0.06639562361699274, 'CIN': 0.06418243616309298, 'MIN': 0.06204302162432321, 'COL': 0.05997492090351244, 'TOR': 0.05797575687339536, 'ATL': 0.05417512392280611, 'TB': 0.05062364357675549, 'ARI': 0.044203878089643454, 'LAA': 0.042730415486655335, 'MIA': 0.041306068303766826, 'CHW': 0.03859822604829767, 'PHI': 0.03486563463303451, 'NYY': 0.033703446811933366, 'STL': 0.03149399863203996, 'BOS': 0.02942939205505067, 'SF': 0.028448412319882314, 'KC': 0.027500131909219572, 'CHC': 0.02658346084557892, 'HOU': 0.025697345484059622}\n"
     ]
    }
   ],
   "source": [
    "chance_108 = {}\n",
    "for k,v in years_to_go_108.items():\n",
    "    chance_108[k] = (29/30)**v\n",
    "    \n",
    "print(chance_108)"
   ]
  },
  {
   "cell_type": "markdown",
   "metadata": {},
   "source": [
    "| Seasons | Team                  | Percent chance of 108 year drought | Percent chance of avoiding 108 year drought |\n",
    "|---------|-----------------------|------------------------------------|---------------------------------------------|\n",
    "| 69      | Cleveland Indians     | 26.7                               | 73.3                                        |\n",
    "| 57      | Texas Rangers         | 17.7                               | 82.3                                        |\n",
    "| 49      | Milwaukee Brewers     | 13.5                               | 86.5                                        |\n",
    "| 49      | San Diego Padres      | 13.5                               | 86.5                                        |\n",
    "| 49      | Washington Nationals  | 13.5                               | 86.5                                        |\n",
    "| 41      | Seattle Mariners      | 10.3                               | 89.7                                        |\n",
    "| 38      | Pittsburgh Pirates    | 9.3                                | 90.7                                        |\n",
    "| 34      | Baltimore Orioles     | 8.1                                | 91.9                                        |\n",
    "| 33      | Detroit Tigers        | 7.9                                | 92.1                                        |\n",
    "| 31      | New York Mets         | 7.4                                | 92.6                                        |\n",
    "| 29      | Los Angeles Dodgers   | 6.9                                | 93.1                                        |\n",
    "| 28      | Oakland Athletics     | 6.6                                | 93.4                                        |\n",
    "| 27      | Cincinnati Reds       | 6.4                                | 93.6                                        |\n",
    "| 26      | Minnesota Twins       | 6.2                                | 93.8                                        |\n",
    "| 25      | Colorado Rockies      | 6                                  | 94                                          |\n",
    "| 24      | Toronto Blue Jays     | 5.8                                | 94.2                                        |\n",
    "| 22      | Atlanta Braves        | 5.4                                | 94.6                                        |\n",
    "| 20      | Tampa Bay Rays        | 5.1                                | 94.9                                        |\n",
    "| 16      | Arizona Diamondbacks  | 4.4                                | 95.6                                        |\n",
    "| 15      | Los Angeles Angels    | 4.3                                | 95.7                                        |\n",
    "| 14      | Miami Marlins         | 4.1                                | 95.9                                        |\n",
    "| 12      | Chicago White Sox     | 3.9                                | 96.1                                        |\n",
    "| 9       | Philadelphia Phillies | 3.5                                | 96.5                                        |\n",
    "| 8       | New York Yankees      | 3.4                                | 96.6                                        |\n",
    "| 6       | St. Louis Cardinals   | 3.1                                | 96.9                                        |\n",
    "| 4       | Boston Red Sox        | 2.9                                | 97.1                                        |\n",
    "| 3       | San Francisco Giants  | 2.8                                | 97.2                                        |\n",
    "| 2       | Kansas City Royals    | 2.8                                | 97.2                                        |\n",
    "| 1       | Chicago Cubs          | 2.7                                | 97.3                                        |\n",
    "| 0       | Houston Astros        | 2.6                                | 97.4                                        |"
   ]
  },
  {
   "cell_type": "markdown",
   "metadata": {},
   "source": [
    "24 teams have less than a 10% chance to match the record, but each team is probably not as safe from it as they would think or hope. Even recent champs in the Astros and the Cubs themselves have near a 1 in 40 chance of reaching the 108 mark. This is surprising given that each team has a nominal 1 in 30 (3.33%) chance of winning a championship in a given year. So the table shows that a given team, if each are given even odds, is actually more likely to go 100 consecutive years without a championship than to win one in any given year."
   ]
  },
  {
   "cell_type": "code",
   "execution_count": 80,
   "metadata": {},
   "outputs": [
    {
     "data": {
      "image/png": "[encoded data removed]",
      "text/plain": [
       "<matplotlib.figure.Figure at 0x1adf95c3438>"
      ]
     },
     "metadata": {},
     "output_type": "display_data"
    }
   ],
   "source": [
    "plt.bar(range(len(chance_108)), list(chance_108.values()), align='center')\n",
    "plt.xticks(range(len(chance_108)), list(chance_108.keys()),rotation=90)\n",
    "plt.title('Individual Team Probabilities of Continuing Current Drought to 108')\n",
    "plt.ylabel('Probability')\n",
    "plt.xlabel('Team')\n",
    "plt.show()"
   ]
  },
  {
   "cell_type": "markdown",
   "metadata": {},
   "source": [
    "So how do we determine the chance that at least one team is on their way to a 108 year drought? We can take the complement and find the chance that all teams avoid the drought. We already have the probability that each team avoids it, so it appears that we would just have to multiply them together."
   ]
  },
  {
   "cell_type": "code",
   "execution_count": 81,
   "metadata": {},
   "outputs": [
    {
     "name": "stdout",
     "output_type": "stream",
     "text": [
      "0.0999945405252\n",
      "0.900005459475\n"
     ]
    }
   ],
   "source": [
    "chance_no_108 = {}\n",
    "for k,v in chance_108.items():\n",
    "    chance_no_108[k] = 1-v\n",
    "print(np.prod(list(chance_no_108.values())))\n",
    "print(1-np.prod(list(chance_no_108.values())))"
   ]
  },
  {
   "cell_type": "markdown",
   "metadata": {},
   "source": [
    "If the individual probabilities that each team avoids the drought are multiplied together, this gives 10%, or the chance that they all happen together. In other words, the chance that no team is en route to a 108 year drought. The complement is that there is a 90% chance that some team will continue their current drought until at least 108. This is surprising, given the perception that that is an abnormally long time for such a streak. It is also actually incorrect and is in fact _lower_ than the true figure.\n",
    "\n",
    "The individual team probabilities, while they are each correct in showing the chances for each individual team, cannot simply be multiplied together to find the composite probability. This is becuase the individual team events are not independent. This means that the result of one affects the chances of the other. \n",
    "\n",
    "To demonstrate this, consider the Indians and the Rangers, the two teams with the longest current ongoing droughts. We have already shown that the Indians have a 73% chance of avoiding extending their current streak by 39 years to a total of 108. In other words, they have a 73% chance to win a title in the next 39 years. Similarly, the Rangers have 51 years to go before 108 and have an 82% chance to win during that period. If we multiply their probabilities together to attempt to find the chance that each team avoids 108, we get a 60.3% chance that both teams avoid 108. But as explained, that's not quite right. \n",
    "\n",
    "Whether or not the Indians avoid the drought affects the chances of the Rangers because only one team can win every year. To compute the Rangers chances, we give them 51 years to win, with a 1/30 chance to win every year. But if we want to find the chance that both teams avoid the drought, we need to know the chance that the Rangers avoid it _given_ that the Indians have avoided it. This notation is shown below. \n",
    "\n",
    "$$\n",
    "\\begin{array}{c}\n",
    "P(CLE and TEX) != P(CLE)P(TEX) \\\\\\\n",
    "P(CLE and TEX) = P(CLE)P(TEX|CLE)\n",
    "\\end{array}\n",
    "$$\n",
    "\n",
    "If we know the Indians avoided the drought, that means they won at least one championship during the 39 year period. Since only one team can avoid it each year, while normally the Rangers would have a 29/30 chance to continue their drought, if we know the Indians won in a certain year, the Rangers then have a 100% chance to continue their drought that year. So if we want to find the chance that the Rangers avoid 108, given that we know that the Indians did, we can only give the Rangers 50 years to do so instead of 51. So this actually makes it harder for the Rangers. We only have to take into account the Indians winning one of those years, because that's all that needs to be true to satisfy the conditions. It is possible that they could win multiple years, but that is already taken into account in the 29/30 chance each year for the Rangers."
   ]
  },
  {
   "cell_type": "code",
   "execution_count": 82,
   "metadata": {},
   "outputs": [
    {
     "name": "stdout",
     "output_type": "stream",
     "text": [
      "0.6032807216822097\n",
      "0.3967192783177903\n"
     ]
    }
   ],
   "source": [
    "print(chance_no_108['CLE']*chance_no_108['TEX'])\n",
    "print(1-chance_no_108['CLE']*chance_no_108['TEX'])"
   ]
  },
  {
   "cell_type": "code",
   "execution_count": 83,
   "metadata": {},
   "outputs": [
    {
     "name": "stdout",
     "output_type": "stream",
     "text": [
      "0.5987924284666608\n",
      "0.4012075715333392\n"
     ]
    }
   ],
   "source": [
    "CLEandTEX = (1-(29/30)**39)*(1-(29/30)**50)\n",
    "print(CLEandTEX)\n",
    "print(1-CLEandTEX)"
   ]
  },
  {
   "cell_type": "markdown",
   "metadata": {},
   "source": [
    "So our first calculation showed that there is a 39.7% chance that either the Indians or Rangers reach a 108 year drought. However when we take into account that the events are not independent, we show that the chance is actually 40.1%. This is a small difference, but it becomes more important as more teams are taken into account."
   ]
  },
  {
   "cell_type": "markdown",
   "metadata": {},
   "source": [
    "So then let's return to our original question. What are the chances that some team in baseball will continue their current championship drought all the way to a Cubs-matching 108 years? We can extend our methodology from the Indians and Rangers to include all teams. \n",
    "\n",
    "\\begin{equation*}\n",
    "P(108)  =  1-P(CLE)P(TEX|CLE)P(MIL|TEXandCLE)P(SD|TEXandCLEandMIL)...P(HOU|all)\n",
    "\\end{equation*}\n",
    "\n",
    "So the probability that some team reaches 108 is the complement of the probability that all teams avoid it, accounting for the fact that the probabilities that each team avoid it are dependent."
   ]
  },
  {
   "cell_type": "code",
   "execution_count": 84,
   "metadata": {},
   "outputs": [
    {
     "data": {
      "text/plain": [
       "[('CLE', 39),\n",
       " ('TEX', 51),\n",
       " ('MIL', 59),\n",
       " ('SD', 59),\n",
       " ('WAS', 59),\n",
       " ('SEA', 67),\n",
       " ('PIT', 70),\n",
       " ('BAL', 74),\n",
       " ('DET', 75),\n",
       " ('NYM', 77),\n",
       " ('LAD', 79),\n",
       " ('OAK', 80),\n",
       " ('CIN', 81),\n",
       " ('MIN', 82),\n",
       " ('COL', 83),\n",
       " ('TOR', 84),\n",
       " ('ATL', 86),\n",
       " ('TB', 88),\n",
       " ('ARI', 92),\n",
       " ('LAA', 93),\n",
       " ('MIA', 94),\n",
       " ('CHW', 96),\n",
       " ('PHI', 99),\n",
       " ('NYY', 100),\n",
       " ('STL', 102),\n",
       " ('BOS', 104),\n",
       " ('SF', 105),\n",
       " ('KC', 106),\n",
       " ('CHC', 107),\n",
       " ('HOU', 108)]"
      ]
     },
     "execution_count": 84,
     "metadata": {},
     "output_type": "execute_result"
    }
   ],
   "source": [
    "#years_to_go = [39,51,59,59,59,67,70,74,75,77,79,80,81,82,83,84,86,88,92,93,94,96,99,100,102,104,105,106,107,108]\n",
    "\n",
    "import operator\n",
    "years_to_go_108 = {k: 108-v for k, v in drought_years.items()}\n",
    "years_to_go_108_sort = sorted(years_to_go_108.items(), key=operator.itemgetter(1))\n",
    "years_to_go_108_sort"
   ]
  },
  {
   "cell_type": "code",
   "execution_count": 85,
   "metadata": {},
   "outputs": [
    {
     "name": "stdout",
     "output_type": "stream",
     "text": [
      "0.962879415558\n"
     ]
    }
   ],
   "source": [
    "chances = []\n",
    "i=0\n",
    "for n in years_to_go_108_sort:\n",
    "    chance_n = 1-(((29)/(30))**(n[1]-i))\n",
    "    chances.append(chance_n)\n",
    "    i = i+1\n",
    "    \n",
    "print(1-np.prod(chances))"
   ]
  },
  {
   "cell_type": "markdown",
   "metadata": {},
   "source": [
    "While we originally computed a 90% chance, it turns out with dependence the real figure is 96.3%. As much as an outlier as the Cubs' long wait may seem, there is actually a 96.3% chance that some team is on their way to match them. Here's hoping it's not the Indians..."
   ]
  },
  {
   "cell_type": "code",
   "execution_count": 88,
   "metadata": {},
   "outputs": [],
   "source": [
    "drought_chances = {}\n",
    "years_to_go_y = {}\n",
    "years_to_go_y_sort = {}\n",
    "for y in range(70,401):\n",
    "    years_to_go_y = {k: y-v for k, v in drought_years.items()}\n",
    "    years_to_go_y_sort = sorted(years_to_go_y.items(), key=operator.itemgetter(1))\n",
    "    chances = []\n",
    "    i=0\n",
    "    for n in years_to_go_y_sort:\n",
    "        chance_n = 1-(((29)/(30))**(n[1]-i))\n",
    "        chances.append(chance_n)\n",
    "        i = i+1\n",
    "        drought_chances[y] = 1-np.prod(chances)"
   ]
  },
  {
   "cell_type": "code",
   "execution_count": 87,
   "metadata": {},
   "outputs": [
    {
     "data": {
      "image/png": "[encoded data removed]",
      "text/plain": [
       "<matplotlib.figure.Figure at 0x1adf9e60dd8>"
      ]
     },
     "metadata": {},
     "output_type": "display_data"
    }
   ],
   "source": [
    "plt.bar(range(70,401), list(drought_chances.values()), align='center')\n",
    "plt.xticks(list(range(70,400,50)), list(range(70,400,50)))\n",
    "plt.title('Probability of Extension of At Least one Drought')\n",
    "plt.ylabel('Probability')\n",
    "plt.xlabel('Total Drought (Years)')\n",
    "plt.show()"
   ]
  },
  {
   "cell_type": "markdown",
   "metadata": {},
   "source": [
    "Why stop at 108? We can use our methodology to find the chance that some teams streak will continue to any given length. While the Indians have a chance to win in 2018 and stop their streak from reaching 70, someone else still could. There is ovarall a 99.999993% that someone will reach it. Meanwhile, there is about a 50% chance that someone will reach 152 years, and a 10% chance that some unlucky team will extend their current streak not just to 108, but 208!"
   ]
  },
  {
   "cell_type": "markdown",
   "metadata": {},
   "source": [
    "So these extended championship droughts may not be as avoidable as we think. Cubs fans, count your blessings."
   ]
  },
  {
   "cell_type": "code",
   "execution_count": null,
   "metadata": {
    "collapsed": true
   },
   "outputs": [],
   "source": []
  }
 ],
 "metadata": {
  "kernelspec": {
   "display_name": "Python 3",
   "language": "python",
   "name": "python3"
  },
  "language_info": {
   "codemirror_mode": {
    "name": "ipython",
    "version": 3
   },
   "file_extension": ".py",
   "mimetype": "text/x-python",
   "name": "python",
   "nbconvert_exporter": "python",
   "pygments_lexer": "ipython3",
   "version": "3.6.1"
  }
 },
 "nbformat": 4,
 "nbformat_minor": 2
}
